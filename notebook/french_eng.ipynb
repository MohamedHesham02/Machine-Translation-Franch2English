{
 "cells": [
  {
   "cell_type": "code",
   "execution_count": 1,
   "metadata": {
    "id": "TpDHruPW4CVg"
   },
   "outputs": [],
   "source": [
    "import string\n",
    "import numpy as np\n",
    "import pandas as pd\n",
    "from tqdm import tqdm\n",
    "import matplotlib.pyplot as plt\n",
    "from sklearn.model_selection import train_test_split"
   ]
  },
  {
   "cell_type": "code",
   "execution_count": 2,
   "metadata": {
    "colab": {
     "base_uri": "https://localhost:8080/",
     "height": 204
    },
    "id": "wvn5hsDM4CVk",
    "outputId": "bef8d546-6148-428c-93f6-0b5321f27758"
   },
   "outputs": [
    {
     "data": {
      "text/html": [
       "<div>\n",
       "<style scoped>\n",
       "    .dataframe tbody tr th:only-of-type {\n",
       "        vertical-align: middle;\n",
       "    }\n",
       "\n",
       "    .dataframe tbody tr th {\n",
       "        vertical-align: top;\n",
       "    }\n",
       "\n",
       "    .dataframe thead th {\n",
       "        text-align: right;\n",
       "    }\n",
       "</style>\n",
       "<table border=\"1\" class=\"dataframe\">\n",
       "  <thead>\n",
       "    <tr style=\"text-align: right;\">\n",
       "      <th></th>\n",
       "      <th>english</th>\n",
       "      <th>french</th>\n",
       "    </tr>\n",
       "  </thead>\n",
       "  <tbody>\n",
       "    <tr>\n",
       "      <th>0</th>\n",
       "      <td>Go.</td>\n",
       "      <td>Va !</td>\n",
       "    </tr>\n",
       "    <tr>\n",
       "      <th>1</th>\n",
       "      <td>Hi.</td>\n",
       "      <td>Salut !</td>\n",
       "    </tr>\n",
       "    <tr>\n",
       "      <th>2</th>\n",
       "      <td>Hi.</td>\n",
       "      <td>Salut.</td>\n",
       "    </tr>\n",
       "    <tr>\n",
       "      <th>3</th>\n",
       "      <td>Run!</td>\n",
       "      <td>Cours !</td>\n",
       "    </tr>\n",
       "    <tr>\n",
       "      <th>4</th>\n",
       "      <td>Run!</td>\n",
       "      <td>Courez !</td>\n",
       "    </tr>\n",
       "  </tbody>\n",
       "</table>\n",
       "</div>"
      ],
      "text/plain": [
       "  english    french\n",
       "0     Go.      Va !\n",
       "1     Hi.   Salut !\n",
       "2     Hi.    Salut.\n",
       "3    Run!   Cours !\n",
       "4    Run!  Courez !"
      ]
     },
     "execution_count": 2,
     "metadata": {},
     "output_type": "execute_result"
    }
   ],
   "source": [
    "data = pd.read_csv('fra.tsv', delimiter='\\t')\n",
    "data.head()"
   ]
  },
  {
   "cell_type": "code",
   "execution_count": 3,
   "metadata": {
    "id": "9hCVEeFR4CVm"
   },
   "outputs": [],
   "source": [
    "data = data.iloc[:55000, :]\n",
    "\n",
    "english = data['english']\n",
    "french = data['french']"
   ]
  },
  {
   "cell_type": "code",
   "execution_count": 4,
   "metadata": {
    "colab": {
     "base_uri": "https://localhost:8080/"
    },
    "id": "G-ApTGjH4CVm",
    "outputId": "1ba1b55e-843a-4ad3-b2d5-fbd45d937a98"
   },
   "outputs": [
    {
     "name": "stdout",
     "output_type": "stream",
     "text": [
      "Length of english sentence: 55000\n",
      "Length of french sentence: 55000\n"
     ]
    }
   ],
   "source": [
    "print(\"Length of english sentence:\", len(english))\n",
    "print(\"Length of french sentence:\", len(french))"
   ]
  },
  {
   "cell_type": "code",
   "execution_count": 5,
   "metadata": {
    "colab": {
     "base_uri": "https://localhost:8080/"
    },
    "id": "z07NWlp04CVn",
    "outputId": "2f3317de-15d3-456e-e5d9-304a7d082273"
   },
   "outputs": [
    {
     "name": "stdout",
     "output_type": "stream",
     "text": [
      "After removing punctuation\n",
      "English word is:  Come in\n",
      "--------------------\n",
      "French word is:  Entre \n"
     ]
    }
   ],
   "source": [
    "english = [s.translate(str.maketrans('', '', string.punctuation)) for s in english]\n",
    "french = [s.translate(str.maketrans('', '', string.punctuation)) for s in french]\n",
    "print('After removing punctuation')\n",
    "print('English word is: ', english[100])\n",
    "print('-'*20)\n",
    "print('French word is: ', french[100])"
   ]
  },
  {
   "cell_type": "markdown",
   "metadata": {
    "id": "M05t6dEN4aQp"
   },
   "source": [
    "# New Section"
   ]
  },
  {
   "cell_type": "code",
   "execution_count": 6,
   "metadata": {
    "colab": {
     "base_uri": "https://localhost:8080/"
    },
    "id": "jmDBF2DZ4CVo",
    "outputId": "324f9bd0-624d-40cd-d5f5-a8a121469906"
   },
   "outputs": [
    {
     "name": "stdout",
     "output_type": "stream",
     "text": [
      "Convert all examples to lowercase\n",
      "English word is:  come in\n",
      "--------------------\n",
      "French word is:  entre \n"
     ]
    }
   ],
   "source": [
    "english = [s.lower() if isinstance(s, str) else s for s in english]\n",
    "french = [s.lower() if isinstance(s, str) else s for s in french]\n",
    "\n",
    "print('Convert all examples to lowercase')\n",
    "print('English word is: ', english[100])\n",
    "print('-'*20)\n",
    "print('French word is: ', french[100])"
   ]
  },
  {
   "cell_type": "code",
   "execution_count": 7,
   "metadata": {
    "colab": {
     "base_uri": "https://localhost:8080/",
     "height": 281
    },
    "id": "gDhyhPsy4CVp",
    "outputId": "77495cc7-69ee-465c-f2a9-5b140a33244e"
   },
   "outputs": [
    {
     "data": {
      "image/png": "[encoded data removed]",
      "text/plain": [
       "<Figure size 432x288 with 2 Axes>"
      ]
     },
     "metadata": {
      "needs_background": "light"
     },
     "output_type": "display_data"
    }
   ],
   "source": [
    "eng_l = [len(s.split()) for s in english]\n",
    "fre_l = [len(s.split()) for s in french]\n",
    "\n",
    "length_df = pd.DataFrame({'english': eng_l, 'french': fre_l})\n",
    "length_df.hist(bins=30)\n",
    "plt.show()"
   ]
  },
  {
   "cell_type": "code",
   "execution_count": 8,
   "metadata": {
    "id": "0b1bWg134CVq"
   },
   "outputs": [],
   "source": [
    "from tensorflow.keras import optimizers\n",
    "from keras.models import Sequential\n",
    "from keras.preprocessing.text import Tokenizer\n",
    "from keras.utils.vis_utils import plot_model\n",
    "from keras.preprocessing.sequence import pad_sequences\n",
    "from keras.callbacks import ModelCheckpoint\n",
    "from keras.layers import Dense, Embedding, LSTM, RepeatVector, Dropout, Bidirectional, Flatten"
   ]
  },
  {
   "cell_type": "code",
   "execution_count": 9,
   "metadata": {
    "id": "mEo38MTg4CVq"
   },
   "outputs": [],
   "source": [
    "def tokenizer(corpus):\n",
    "    tokenizer = Tokenizer()\n",
    "    tokenizer.fit_on_texts(corpus)\n",
    "    return tokenizer"
   ]
  },
  {
   "cell_type": "code",
   "execution_count": 10,
   "metadata": {
    "id": "3-G1Rvpa4CVr"
   },
   "outputs": [],
   "source": [
    "english_tokenizer = tokenizer(english)\n",
    "french_tokenizer = tokenizer(french)"
   ]
  },
  {
   "cell_type": "code",
   "execution_count": 11,
   "metadata": {
    "colab": {
     "base_uri": "https://localhost:8080/"
    },
    "id": "xACFhpRb4CVs",
    "outputId": "bb6697a7-f4f4-4370-b8ec-807883c330e8"
   },
   "outputs": [
    {
     "name": "stdout",
     "output_type": "stream",
     "text": [
      "Size of english vocab: 6908\n",
      "Size of french vocab: 15743\n"
     ]
    }
   ],
   "source": [
    "word_index_english = english_tokenizer.word_index\n",
    "word_index_french = french_tokenizer.word_index\n",
    "\n",
    "eng_vocab_size = len(word_index_english) + 1\n",
    "fre_vocab_size = len(word_index_french) + 1\n",
    "\n",
    "print(\"Size of english vocab:\", len(word_index_english))\n",
    "print(\"Size of french vocab:\", len(word_index_french))"
   ]
  },
  {
   "cell_type": "code",
   "execution_count": 12,
   "metadata": {
    "colab": {
     "base_uri": "https://localhost:8080/"
    },
    "id": "5oxXdDf64CVs",
    "outputId": "35dd3c3c-857b-46e6-eb1e-74c13439af23"
   },
   "outputs": [
    {
     "name": "stdout",
     "output_type": "stream",
     "text": [
      "Max length of english sentence: 8\n",
      "Max length of french sentence: 14\n"
     ]
    }
   ],
   "source": [
    "max_len_eng = max(eng_l)\n",
    "max_len_fre = max(fre_l)\n",
    "\n",
    "print(\"Max length of english sentence:\", max_len_eng)\n",
    "print(\"Max length of french sentence:\", max_len_fre)"
   ]
  },
  {
   "cell_type": "code",
   "execution_count": 13,
   "metadata": {
    "id": "OFti4I6M4CVt"
   },
   "outputs": [],
   "source": [
    "english = pd.Series(english).to_frame('english')\n",
    "french = pd.Series(french).to_frame('french')\n",
    "\n",
    "dummy_df = pd.concat([english, french], axis=1)\n",
    "train, test = train_test_split(dummy_df, test_size=0.1, random_state=42)\n",
    "\n",
    "train_english = train.english.values\n",
    "train_french = train.french.values\n",
    "\n",
    "test_english = test.english.values\n",
    "test_french = test.french.values"
   ]
  },
  {
   "cell_type": "code",
   "execution_count": 14,
   "metadata": {
    "id": "IvphWf8e4CVt"
   },
   "outputs": [],
   "source": [
    "def encode_sequences(tokenizer, length, text):\n",
    "    sequences = tokenizer.texts_to_sequences(text)\n",
    "    sequences = pad_sequences(sequences, maxlen=length, padding='post')\n",
    "    return sequences"
   ]
  },
  {
   "cell_type": "code",
   "execution_count": 15,
   "metadata": {
    "id": "fPDajmxY4CVu"
   },
   "outputs": [],
   "source": [
    "eng_seq = encode_sequences(english_tokenizer, max_len_eng, train_english)\n",
    "fre_seq = encode_sequences(french_tokenizer, max_len_fre, train_french)\n",
    "\n",
    "# test_english = encode_sequences(english_tokenizer, max_len_eng, test_english)\n",
    "test_french = encode_sequences(french_tokenizer, max_len_fre, test_french)"
   ]
  },
  {
   "cell_type": "code",
   "execution_count": 16,
   "metadata": {
    "colab": {
     "base_uri": "https://localhost:8080/"
    },
    "id": "fYyDsUQz4CVu",
    "outputId": "5a4aa46d-d080-469e-c79d-58ebd5b5ee43"
   },
   "outputs": [
    {
     "name": "stdout",
     "output_type": "stream",
     "text": [
      "english sentences have the same length : 8\n",
      "[3205    5  980 6052    0    0    0    0]\n",
      "[ 12 339 102   0   0   0   0   0]\n",
      "--------------------\n",
      "french sentences have the same length : 14\n",
      "[   26   309     3   766    12 13565     0     0     0     0     0     0\n",
      "     0     0]\n",
      "[ 19  21 324 112   0   0   0   0   0   0   0   0   0   0]\n"
     ]
    }
   ],
   "source": [
    "print(\"english sentences have the same length :\", max_len_eng)\n",
    "print(eng_seq[15])\n",
    "print(eng_seq[78])\n",
    "print('-'*20)\n",
    "print(\"french sentences have the same length :\", max_len_fre)\n",
    "print(fre_seq[86])\n",
    "print(fre_seq[145])"
   ]
  },
  {
   "cell_type": "code",
   "execution_count": 19,
   "metadata": {
    "id": "lEWNBFQ04CVv"
   },
   "outputs": [],
   "source": [
    "def nmt_model(in_vocab_size, out_vocab_size, in_timestep, out_timestep, units):\n",
    "    model = Sequential()\n",
    "    model.add(Embedding(in_vocab_size, units, input_length=in_timestep, mask_zero=True))\n",
    "    model.add(Bidirectional(LSTM(units, dropout=0.5, recurrent_dropout=0.4)))\n",
    "    model.add(Dropout(0.3))\n",
    "    model.add(RepeatVector(out_timestep))\n",
    "    model.add(Bidirectional(LSTM(units, dropout=0.5, recurrent_dropout=0.4, return_sequences=True)))\n",
    "    model.add(Dropout(0.3))\n",
    "    model.add(Dense(out_vocab_size, activation=\"softmax\"))\n",
    "    return model"
   ]
  },
  {
   "cell_type": "code",
   "execution_count": 20,
   "metadata": {
    "id": "K7YxWW_F4CVv"
   },
   "outputs": [],
   "source": [
    "model = nmt_model(fre_vocab_size, eng_vocab_size, max_len_fre, max_len_eng, 128)"
   ]
  },
  {
   "cell_type": "code",
   "execution_count": 21,
   "metadata": {
    "id": "FQxoD3Hu4CVw"
   },
   "outputs": [],
   "source": [
    "rms = optimizers.RMSprop(learning_rate=0.01)\n",
    "model.compile(loss=\"sparse_categorical_crossentropy\", optimizer=rms, metrics=['accuracy'])"
   ]
  },
  {
   "cell_type": "code",
   "execution_count": 25,
   "metadata": {
    "colab": {
     "base_uri": "https://localhost:8080/"
    },
    "id": "E1-PTK254CVw",
    "outputId": "0c340ada-2679-4da2-b2f9-677b30f2042e"
   },
   "outputs": [
    {
     "name": "stdout",
     "output_type": "stream",
     "text": [
      "Model: \"sequential\"\n",
      "_________________________________________________________________\n",
      "Layer (type)                 Output Shape              Param #   \n",
      "=================================================================\n",
      "embedding (Embedding)        (None, 14, 128)           1863552   \n",
      "_________________________________________________________________\n",
      "bidirectional (Bidirectional (None, 256)               263168    \n",
      "_________________________________________________________________\n",
      "dropout (Dropout)            (None, 256)               0         \n",
      "_________________________________________________________________\n",
      "repeat_vector (RepeatVector) (None, 8, 256)            0         \n",
      "_________________________________________________________________\n",
      "bidirectional_1 (Bidirection (None, 8, 256)            394240    \n",
      "_________________________________________________________________\n",
      "dropout_1 (Dropout)          (None, 8, 256)            0         \n",
      "_________________________________________________________________\n",
      "dense (Dense)                (None, 8, 6909)           1775613   \n",
      "=================================================================\n",
      "Total params: 4,296,573\n",
      "Trainable params: 4,296,573\n",
      "Non-trainable params: 0\n",
      "_________________________________________________________________\n"
     ]
    }
   ],
   "source": [
    "model.summary()"
   ]
  },
  {
   "cell_type": "code",
   "execution_count": 26,
   "metadata": {
    "colab": {
     "base_uri": "https://localhost:8080/",
     "height": 865
    },
    "id": "rJCMLEiN4CVw",
    "outputId": "dbf803f7-1277-4c0b-b984-1f3b89c1af91"
   },
   "outputs": [
    {
     "data": {
      "image/png": "[encoded data removed]",
      "text/plain": [
       "<IPython.core.display.Image object>"
      ]
     },
     "execution_count": 26,
     "metadata": {},
     "output_type": "execute_result"
    }
   ],
   "source": [
    "plot_model(model, show_shapes=True)"
   ]
  },
  {
   "cell_type": "code",
   "execution_count": null,
   "metadata": {
    "id": "zN9y6wHK4CVx"
   },
   "outputs": [],
   "source": [
    "filepath=\"weights-improvement.hdf5\"\n",
    "checkpoint = ModelCheckpoint(filepath, monitor='val_accuracy', verbose=1, save_best_only=True, mode='max')"
   ]
  },
  {
   "cell_type": "code",
   "execution_count": null,
   "metadata": {
    "colab": {
     "base_uri": "https://localhost:8080/"
    },
    "id": "c_7zueOL4CVx",
    "outputId": "0073ff17-6581-4e43-f007-381edbdb32f6"
   },
   "outputs": [
    {
     "name": "stdout",
     "output_type": "stream",
     "text": [
      "Epoch 1/30\n",
      "46/46 [==============================] - 175s 4s/step - loss: 4.1204 - accuracy: 0.4497 - val_loss: 3.3151 - val_accuracy: 0.4963\n",
      "\n",
      "Epoch 00001: val_accuracy improved from -inf to 0.49631, saving model to weights-improvement.hdf5\n",
      "Epoch 2/30\n",
      "46/46 [==============================] - 168s 4s/step - loss: 3.0881 - accuracy: 0.5246 - val_loss: 2.8484 - val_accuracy: 0.5533\n",
      "\n",
      "Epoch 00002: val_accuracy improved from 0.49631 to 0.55328, saving model to weights-improvement.hdf5\n",
      "Epoch 3/30\n",
      "46/46 [==============================] - 168s 4s/step - loss: 2.7198 - accuracy: 0.5634 - val_loss: 2.5367 - val_accuracy: 0.5888\n",
      "\n",
      "Epoch 00003: val_accuracy improved from 0.55328 to 0.58884, saving model to weights-improvement.hdf5\n",
      "Epoch 4/30\n",
      "46/46 [==============================] - 168s 4s/step - loss: 2.4555 - accuracy: 0.5889 - val_loss: 2.3613 - val_accuracy: 0.6098\n",
      "\n",
      "Epoch 00004: val_accuracy improved from 0.58884 to 0.60980, saving model to weights-improvement.hdf5\n",
      "Epoch 5/30\n",
      "46/46 [==============================] - 168s 4s/step - loss: 2.2647 - accuracy: 0.6075 - val_loss: 2.1894 - val_accuracy: 0.6292\n",
      "\n",
      "Epoch 00005: val_accuracy improved from 0.60980 to 0.62924, saving model to weights-improvement.hdf5\n",
      "Epoch 6/30\n",
      "46/46 [==============================] - 167s 4s/step - loss: 2.1231 - accuracy: 0.6196 - val_loss: 2.1084 - val_accuracy: 0.6368\n",
      "\n",
      "Epoch 00006: val_accuracy improved from 0.62924 to 0.63677, saving model to weights-improvement.hdf5\n",
      "Epoch 7/30\n",
      "46/46 [==============================] - 167s 4s/step - loss: 2.0102 - accuracy: 0.6298 - val_loss: 2.0119 - val_accuracy: 0.6465\n",
      "\n",
      "Epoch 00007: val_accuracy improved from 0.63677 to 0.64652, saving model to weights-improvement.hdf5\n",
      "Epoch 8/30\n",
      "46/46 [==============================] - 168s 4s/step - loss: 1.9184 - accuracy: 0.6372 - val_loss: 1.9491 - val_accuracy: 0.6532\n",
      "\n",
      "Epoch 00008: val_accuracy improved from 0.64652 to 0.65318, saving model to weights-improvement.hdf5\n",
      "Epoch 9/30\n",
      "46/46 [==============================] - 167s 4s/step - loss: 1.8387 - accuracy: 0.6444 - val_loss: 1.8664 - val_accuracy: 0.6627\n",
      "\n",
      "Epoch 00009: val_accuracy improved from 0.65318 to 0.66273, saving model to weights-improvement.hdf5\n",
      "Epoch 10/30\n",
      "46/46 [==============================] - 167s 4s/step - loss: 1.7751 - accuracy: 0.6496 - val_loss: 1.8225 - val_accuracy: 0.6682\n",
      "\n",
      "Epoch 00010: val_accuracy improved from 0.66273 to 0.66823, saving model to weights-improvement.hdf5\n",
      "Epoch 11/30\n",
      "46/46 [==============================] - 167s 4s/step - loss: 1.7114 - accuracy: 0.6550 - val_loss: 1.7663 - val_accuracy: 0.6768\n",
      "\n",
      "Epoch 00011: val_accuracy improved from 0.66823 to 0.67677, saving model to weights-improvement.hdf5\n",
      "Epoch 12/30\n",
      "46/46 [==============================] - 168s 4s/step - loss: 1.6614 - accuracy: 0.6605 - val_loss: 1.7315 - val_accuracy: 0.6801\n",
      "\n",
      "Epoch 00012: val_accuracy improved from 0.67677 to 0.68005, saving model to weights-improvement.hdf5\n",
      "Epoch 13/30\n",
      "46/46 [==============================] - 167s 4s/step - loss: 1.6141 - accuracy: 0.6658 - val_loss: 1.7104 - val_accuracy: 0.6856\n",
      "\n",
      "Epoch 00013: val_accuracy improved from 0.68005 to 0.68561, saving model to weights-improvement.hdf5\n",
      "Epoch 14/30\n",
      "46/46 [==============================] - 167s 4s/step - loss: 1.5738 - accuracy: 0.6694 - val_loss: 1.7022 - val_accuracy: 0.6852\n",
      "\n",
      "Epoch 00014: val_accuracy did not improve from 0.68561\n",
      "Epoch 15/30\n",
      "46/46 [==============================] - 167s 4s/step - loss: 1.5366 - accuracy: 0.6742 - val_loss: 1.6356 - val_accuracy: 0.6909\n",
      "\n",
      "Epoch 00015: val_accuracy improved from 0.68561 to 0.69091, saving model to weights-improvement.hdf5\n",
      "Epoch 16/30\n",
      "46/46 [==============================] - 167s 4s/step - loss: 1.5050 - accuracy: 0.6773 - val_loss: 1.6207 - val_accuracy: 0.6931\n",
      "\n",
      "Epoch 00016: val_accuracy improved from 0.69091 to 0.69308, saving model to weights-improvement.hdf5\n",
      "Epoch 17/30\n",
      "46/46 [==============================] - 167s 4s/step - loss: 1.4751 - accuracy: 0.6812 - val_loss: 1.5891 - val_accuracy: 0.7003\n",
      "\n",
      "Epoch 00017: val_accuracy improved from 0.69308 to 0.70025, saving model to weights-improvement.hdf5\n",
      "Epoch 18/30\n",
      "46/46 [==============================] - 168s 4s/step - loss: 1.4442 - accuracy: 0.6842 - val_loss: 1.5789 - val_accuracy: 0.7001\n",
      "\n",
      "Epoch 00018: val_accuracy did not improve from 0.70025\n",
      "Epoch 19/30\n",
      "46/46 [==============================] - 168s 4s/step - loss: 1.4210 - accuracy: 0.6868 - val_loss: 1.5450 - val_accuracy: 0.7070\n",
      "\n",
      "Epoch 00019: val_accuracy improved from 0.70025 to 0.70702, saving model to weights-improvement.hdf5\n",
      "Epoch 20/30\n",
      "46/46 [==============================] - 167s 4s/step - loss: 1.3951 - accuracy: 0.6916 - val_loss: 1.5363 - val_accuracy: 0.7107\n",
      "\n",
      "Epoch 00020: val_accuracy improved from 0.70702 to 0.71071, saving model to weights-improvement.hdf5\n",
      "Epoch 21/30\n",
      "46/46 [==============================] - 168s 4s/step - loss: 1.3784 - accuracy: 0.6920 - val_loss: 1.5193 - val_accuracy: 0.7101\n",
      "\n",
      "Epoch 00021: val_accuracy did not improve from 0.71071\n",
      "Epoch 22/30\n",
      "46/46 [==============================] - 168s 4s/step - loss: 1.3606 - accuracy: 0.6951 - val_loss: 1.5135 - val_accuracy: 0.7091\n",
      "\n",
      "Epoch 00022: val_accuracy did not improve from 0.71071\n",
      "Epoch 23/30\n",
      "46/46 [==============================] - 167s 4s/step - loss: 1.3362 - accuracy: 0.6988 - val_loss: 1.4950 - val_accuracy: 0.7160\n",
      "\n",
      "Epoch 00023: val_accuracy improved from 0.71071 to 0.71596, saving model to weights-improvement.hdf5\n",
      "Epoch 24/30\n",
      "46/46 [==============================] - 167s 4s/step - loss: 1.3228 - accuracy: 0.6998 - val_loss: 1.4813 - val_accuracy: 0.7182\n",
      "\n",
      "Epoch 00024: val_accuracy improved from 0.71596 to 0.71818, saving model to weights-improvement.hdf5\n",
      "Epoch 25/30\n",
      "46/46 [==============================] - 167s 4s/step - loss: 1.3030 - accuracy: 0.7027 - val_loss: 1.4760 - val_accuracy: 0.7206\n",
      "\n",
      "Epoch 00025: val_accuracy improved from 0.71818 to 0.72056, saving model to weights-improvement.hdf5\n",
      "Epoch 26/30\n",
      "46/46 [==============================] - 167s 4s/step - loss: 1.2899 - accuracy: 0.7046 - val_loss: 1.4749 - val_accuracy: 0.7178\n",
      "\n",
      "Epoch 00026: val_accuracy did not improve from 0.72056\n",
      "Epoch 27/30\n",
      "46/46 [==============================] - 167s 4s/step - loss: 1.2747 - accuracy: 0.7071 - val_loss: 1.4591 - val_accuracy: 0.7229\n",
      "\n",
      "Epoch 00027: val_accuracy improved from 0.72056 to 0.72293, saving model to weights-improvement.hdf5\n",
      "Epoch 28/30\n",
      "46/46 [==============================] - 167s 4s/step - loss: 1.2616 - accuracy: 0.7088 - val_loss: 1.4704 - val_accuracy: 0.7227\n",
      "\n",
      "Epoch 00028: val_accuracy did not improve from 0.72293\n",
      "Epoch 29/30\n",
      "46/46 [==============================] - 167s 4s/step - loss: 1.2450 - accuracy: 0.7110 - val_loss: 1.4479 - val_accuracy: 0.7230\n",
      "\n",
      "Epoch 00029: val_accuracy improved from 0.72293 to 0.72303, saving model to weights-improvement.hdf5\n",
      "Epoch 30/30\n",
      "46/46 [==============================] - 167s 4s/step - loss: 1.2375 - accuracy: 0.7121 - val_loss: 1.4357 - val_accuracy: 0.7259\n",
      "\n",
      "Epoch 00030: val_accuracy improved from 0.72303 to 0.72586, saving model to weights-improvement.hdf5\n"
     ]
    }
   ],
   "source": [
    "eng_seq = eng_seq.reshape(eng_seq.shape[0], eng_seq.shape[1], 1)\n",
    "history = model.fit(fre_seq, eng_seq, batch_size=1024, epochs=30, verbose=1, validation_split=0.05, shuffle=True, callbacks=[checkpoint])"
   ]
  },
  {
   "cell_type": "code",
   "execution_count": 17,
   "metadata": {
    "id": "cwiXUZ_Q4WAI"
   },
   "outputs": [],
   "source": [
    "from google.colab import files\n",
    "#files.download('/content/weights-improvement.hdf5')"
   ]
  },
  {
   "cell_type": "code",
   "execution_count": 27,
   "metadata": {
    "colab": {
     "base_uri": "https://localhost:8080/",
     "height": 442
    },
    "id": "VyislERvqhWM",
    "outputId": "9d4c78c8-6d27-4557-dcd7-423216827457"
   },
   "outputs": [
    {
     "ename": "OSError",
     "evalue": "ignored",
     "output_type": "error",
     "traceback": [
      "\u001b[0;31m---------------------------------------------------------------------------\u001b[0m",
      "\u001b[0;31mOSError\u001b[0m                                   Traceback (most recent call last)",
      "\u001b[0;32m<ipython-input-27-f22029243fb5>\u001b[0m in \u001b[0;36m<module>\u001b[0;34m()\u001b[0m\n\u001b[1;32m      1\u001b[0m \u001b[0mcheckpoint_path\u001b[0m \u001b[0;34m=\u001b[0m \u001b[0;34m'/content/weights-improvement.hdf5'\u001b[0m\u001b[0;34m\u001b[0m\u001b[0;34m\u001b[0m\u001b[0m\n\u001b[0;32m----> 2\u001b[0;31m \u001b[0mmodel\u001b[0m\u001b[0;34m.\u001b[0m\u001b[0mload_weights\u001b[0m\u001b[0;34m(\u001b[0m\u001b[0mcheckpoint_path\u001b[0m\u001b[0;34m)\u001b[0m\u001b[0;34m\u001b[0m\u001b[0;34m\u001b[0m\u001b[0m\n\u001b[0m",
      "\u001b[0;32m/usr/local/lib/python3.7/dist-packages/keras/engine/training.py\u001b[0m in \u001b[0;36mload_weights\u001b[0;34m(self, filepath, by_name, skip_mismatch, options)\u001b[0m\n\u001b[1;32m   2352\u001b[0m             'first, then load the weights.')\n\u001b[1;32m   2353\u001b[0m       \u001b[0mself\u001b[0m\u001b[0;34m.\u001b[0m\u001b[0m_assert_weights_created\u001b[0m\u001b[0;34m(\u001b[0m\u001b[0;34m)\u001b[0m\u001b[0;34m\u001b[0m\u001b[0;34m\u001b[0m\u001b[0m\n\u001b[0;32m-> 2354\u001b[0;31m       \u001b[0;32mwith\u001b[0m \u001b[0mh5py\u001b[0m\u001b[0;34m.\u001b[0m\u001b[0mFile\u001b[0m\u001b[0;34m(\u001b[0m\u001b[0mfilepath\u001b[0m\u001b[0;34m,\u001b[0m \u001b[0;34m'r'\u001b[0m\u001b[0;34m)\u001b[0m \u001b[0;32mas\u001b[0m \u001b[0mf\u001b[0m\u001b[0;34m:\u001b[0m\u001b[0;34m\u001b[0m\u001b[0;34m\u001b[0m\u001b[0m\n\u001b[0m\u001b[1;32m   2355\u001b[0m         \u001b[0;32mif\u001b[0m \u001b[0;34m'layer_names'\u001b[0m \u001b[0;32mnot\u001b[0m \u001b[0;32min\u001b[0m \u001b[0mf\u001b[0m\u001b[0;34m.\u001b[0m\u001b[0mattrs\u001b[0m \u001b[0;32mand\u001b[0m \u001b[0;34m'model_weights'\u001b[0m \u001b[0;32min\u001b[0m \u001b[0mf\u001b[0m\u001b[0;34m:\u001b[0m\u001b[0;34m\u001b[0m\u001b[0;34m\u001b[0m\u001b[0m\n\u001b[1;32m   2356\u001b[0m           \u001b[0mf\u001b[0m \u001b[0;34m=\u001b[0m \u001b[0mf\u001b[0m\u001b[0;34m[\u001b[0m\u001b[0;34m'model_weights'\u001b[0m\u001b[0;34m]\u001b[0m\u001b[0;34m\u001b[0m\u001b[0;34m\u001b[0m\u001b[0m\n",
      "\u001b[0;32m/usr/local/lib/python3.7/dist-packages/h5py/_hl/files.py\u001b[0m in \u001b[0;36m__init__\u001b[0;34m(self, name, mode, driver, libver, userblock_size, swmr, rdcc_nslots, rdcc_nbytes, rdcc_w0, track_order, fs_strategy, fs_persist, fs_threshold, **kwds)\u001b[0m\n\u001b[1;32m    425\u001b[0m                                fapl, fcpl=make_fcpl(track_order=track_order, fs_strategy=fs_strategy,\n\u001b[1;32m    426\u001b[0m                                fs_persist=fs_persist, fs_threshold=fs_threshold),\n\u001b[0;32m--> 427\u001b[0;31m                                swmr=swmr)\n\u001b[0m\u001b[1;32m    428\u001b[0m \u001b[0;34m\u001b[0m\u001b[0m\n\u001b[1;32m    429\u001b[0m             \u001b[0;32mif\u001b[0m \u001b[0misinstance\u001b[0m\u001b[0;34m(\u001b[0m\u001b[0mlibver\u001b[0m\u001b[0;34m,\u001b[0m \u001b[0mtuple\u001b[0m\u001b[0;34m)\u001b[0m\u001b[0;34m:\u001b[0m\u001b[0;34m\u001b[0m\u001b[0;34m\u001b[0m\u001b[0m\n",
      "\u001b[0;32m/usr/local/lib/python3.7/dist-packages/h5py/_hl/files.py\u001b[0m in \u001b[0;36mmake_fid\u001b[0;34m(name, mode, userblock_size, fapl, fcpl, swmr)\u001b[0m\n\u001b[1;32m    188\u001b[0m         \u001b[0;32mif\u001b[0m \u001b[0mswmr\u001b[0m \u001b[0;32mand\u001b[0m \u001b[0mswmr_support\u001b[0m\u001b[0;34m:\u001b[0m\u001b[0;34m\u001b[0m\u001b[0;34m\u001b[0m\u001b[0m\n\u001b[1;32m    189\u001b[0m             \u001b[0mflags\u001b[0m \u001b[0;34m|=\u001b[0m \u001b[0mh5f\u001b[0m\u001b[0;34m.\u001b[0m\u001b[0mACC_SWMR_READ\u001b[0m\u001b[0;34m\u001b[0m\u001b[0;34m\u001b[0m\u001b[0m\n\u001b[0;32m--> 190\u001b[0;31m         \u001b[0mfid\u001b[0m \u001b[0;34m=\u001b[0m \u001b[0mh5f\u001b[0m\u001b[0;34m.\u001b[0m\u001b[0mopen\u001b[0m\u001b[0;34m(\u001b[0m\u001b[0mname\u001b[0m\u001b[0;34m,\u001b[0m \u001b[0mflags\u001b[0m\u001b[0;34m,\u001b[0m \u001b[0mfapl\u001b[0m\u001b[0;34m=\u001b[0m\u001b[0mfapl\u001b[0m\u001b[0;34m)\u001b[0m\u001b[0;34m\u001b[0m\u001b[0;34m\u001b[0m\u001b[0m\n\u001b[0m\u001b[1;32m    191\u001b[0m     \u001b[0;32melif\u001b[0m \u001b[0mmode\u001b[0m \u001b[0;34m==\u001b[0m \u001b[0;34m'r+'\u001b[0m\u001b[0;34m:\u001b[0m\u001b[0;34m\u001b[0m\u001b[0;34m\u001b[0m\u001b[0m\n\u001b[1;32m    192\u001b[0m         \u001b[0mfid\u001b[0m \u001b[0;34m=\u001b[0m \u001b[0mh5f\u001b[0m\u001b[0;34m.\u001b[0m\u001b[0mopen\u001b[0m\u001b[0;34m(\u001b[0m\u001b[0mname\u001b[0m\u001b[0;34m,\u001b[0m \u001b[0mh5f\u001b[0m\u001b[0;34m.\u001b[0m\u001b[0mACC_RDWR\u001b[0m\u001b[0;34m,\u001b[0m \u001b[0mfapl\u001b[0m\u001b[0;34m=\u001b[0m\u001b[0mfapl\u001b[0m\u001b[0;34m)\u001b[0m\u001b[0;34m\u001b[0m\u001b[0;34m\u001b[0m\u001b[0m\n",
      "\u001b[0;32mh5py/_objects.pyx\u001b[0m in \u001b[0;36mh5py._objects.with_phil.wrapper\u001b[0;34m()\u001b[0m\n",
      "\u001b[0;32mh5py/_objects.pyx\u001b[0m in \u001b[0;36mh5py._objects.with_phil.wrapper\u001b[0;34m()\u001b[0m\n",
      "\u001b[0;32mh5py/h5f.pyx\u001b[0m in \u001b[0;36mh5py.h5f.open\u001b[0;34m()\u001b[0m\n",
      "\u001b[0;31mOSError\u001b[0m: Unable to open file (unable to open file: name = '/content/weights-improvement.hdf5', errno = 2, error message = 'No such file or directory', flags = 0, o_flags = 0)"
     ]
    }
   ],
   "source": [
    "checkpoint_path = '/content/weights-improvement.hdf5'\n",
    "model.load_weights(checkpoint_path)"
   ]
  },
  {
   "cell_type": "code",
   "execution_count": null,
   "metadata": {
    "colab": {
     "base_uri": "https://localhost:8080/"
    },
    "id": "9CgBMfApCraC",
    "outputId": "2b69e855-899a-4d28-c8c2-d2c42ab80818"
   },
   "outputs": [
    {
     "name": "stdout",
     "output_type": "stream",
     "text": [
      "Epoch 1/60\n",
      "46/46 [==============================] - 188s 4s/step - loss: 1.3013 - accuracy: 0.7041 - val_loss: 1.4411 - val_accuracy: 0.7249\n",
      "\n",
      "Epoch 00001: val_accuracy improved from -inf to 0.72495, saving model to weights-improvement_to60.hdf5\n",
      "Epoch 2/60\n",
      "46/46 [==============================] - 176s 4s/step - loss: 1.2519 - accuracy: 0.7118 - val_loss: 1.4323 - val_accuracy: 0.7278\n",
      "\n",
      "Epoch 00002: val_accuracy improved from 0.72495 to 0.72778, saving model to weights-improvement_to60.hdf5\n",
      "Epoch 3/60\n",
      "46/46 [==============================] - 177s 4s/step - loss: 1.2295 - accuracy: 0.7141 - val_loss: 1.4312 - val_accuracy: 0.7281\n",
      "\n",
      "Epoch 00003: val_accuracy improved from 0.72778 to 0.72813, saving model to weights-improvement_to60.hdf5\n",
      "Epoch 4/60\n",
      "46/46 [==============================] - 177s 4s/step - loss: 1.2158 - accuracy: 0.7167 - val_loss: 1.4236 - val_accuracy: 0.7227\n",
      "\n",
      "Epoch 00004: val_accuracy did not improve from 0.72813\n",
      "Epoch 5/60\n",
      "46/46 [==============================] - 176s 4s/step - loss: 1.1985 - accuracy: 0.7194 - val_loss: 1.4200 - val_accuracy: 0.7290\n",
      "\n",
      "Epoch 00005: val_accuracy improved from 0.72813 to 0.72904, saving model to weights-improvement_to60.hdf5\n",
      "Epoch 6/60\n",
      "46/46 [==============================] - 176s 4s/step - loss: 1.1855 - accuracy: 0.7212 - val_loss: 1.4079 - val_accuracy: 0.7303\n",
      "\n",
      "Epoch 00006: val_accuracy improved from 0.72904 to 0.73025, saving model to weights-improvement_to60.hdf5\n",
      "Epoch 7/60\n",
      "46/46 [==============================] - 175s 4s/step - loss: 1.1756 - accuracy: 0.7226 - val_loss: 1.3921 - val_accuracy: 0.7327\n",
      "\n",
      "Epoch 00007: val_accuracy improved from 0.73025 to 0.73268, saving model to weights-improvement_to60.hdf5\n",
      "Epoch 8/60\n",
      "46/46 [==============================] - 175s 4s/step - loss: 1.1659 - accuracy: 0.7237 - val_loss: 1.4092 - val_accuracy: 0.7346\n",
      "\n",
      "Epoch 00008: val_accuracy improved from 0.73268 to 0.73460, saving model to weights-improvement_to60.hdf5\n",
      "Epoch 9/60\n",
      "46/46 [==============================] - 174s 4s/step - loss: 1.1571 - accuracy: 0.7253 - val_loss: 1.3902 - val_accuracy: 0.7332\n",
      "\n",
      "Epoch 00009: val_accuracy did not improve from 0.73460\n",
      "Epoch 10/60\n",
      "46/46 [==============================] - 173s 4s/step - loss: 1.1458 - accuracy: 0.7273 - val_loss: 1.4125 - val_accuracy: 0.7324\n",
      "\n",
      "Epoch 00010: val_accuracy did not improve from 0.73460\n",
      "Epoch 11/60\n",
      "46/46 [==============================] - 173s 4s/step - loss: 1.1396 - accuracy: 0.7283 - val_loss: 1.3902 - val_accuracy: 0.7340\n",
      "\n",
      "Epoch 00011: val_accuracy did not improve from 0.73460\n",
      "Epoch 12/60\n",
      "46/46 [==============================] - 172s 4s/step - loss: 1.1308 - accuracy: 0.7288 - val_loss: 1.3815 - val_accuracy: 0.7386\n",
      "\n",
      "Epoch 00012: val_accuracy improved from 0.73460 to 0.73859, saving model to weights-improvement_to60.hdf5\n",
      "Epoch 13/60\n",
      "46/46 [==============================] - 172s 4s/step - loss: 1.1217 - accuracy: 0.7311 - val_loss: 1.3854 - val_accuracy: 0.7396\n",
      "\n",
      "Epoch 00013: val_accuracy improved from 0.73859 to 0.73965, saving model to weights-improvement_to60.hdf5\n",
      "Epoch 14/60\n",
      "46/46 [==============================] - 172s 4s/step - loss: 1.1129 - accuracy: 0.7319 - val_loss: 1.3790 - val_accuracy: 0.7349\n",
      "\n",
      "Epoch 00014: val_accuracy did not improve from 0.73965\n",
      "Epoch 15/60\n",
      "46/46 [==============================] - 172s 4s/step - loss: 1.1089 - accuracy: 0.7327 - val_loss: 1.3860 - val_accuracy: 0.7305\n",
      "\n",
      "Epoch 00015: val_accuracy did not improve from 0.73965\n",
      "Epoch 16/60\n",
      "46/46 [==============================] - 173s 4s/step - loss: 1.1040 - accuracy: 0.7336 - val_loss: 1.3611 - val_accuracy: 0.7381\n",
      "\n",
      "Epoch 00016: val_accuracy did not improve from 0.73965\n",
      "Epoch 17/60\n",
      "46/46 [==============================] - 173s 4s/step - loss: 1.0931 - accuracy: 0.7355 - val_loss: 1.3692 - val_accuracy: 0.7397\n",
      "\n",
      "Epoch 00017: val_accuracy improved from 0.73965 to 0.73970, saving model to weights-improvement_to60.hdf5\n",
      "Epoch 18/60\n",
      "46/46 [==============================] - 173s 4s/step - loss: 1.0904 - accuracy: 0.7359 - val_loss: 1.3739 - val_accuracy: 0.7407\n",
      "\n",
      "Epoch 00018: val_accuracy improved from 0.73970 to 0.74071, saving model to weights-improvement_to60.hdf5\n",
      "Epoch 19/60\n",
      "46/46 [==============================] - 174s 4s/step - loss: 1.0805 - accuracy: 0.7375 - val_loss: 1.3705 - val_accuracy: 0.7394\n",
      "\n",
      "Epoch 00019: val_accuracy did not improve from 0.74071\n",
      "Epoch 20/60\n",
      "46/46 [==============================] - 177s 4s/step - loss: 1.0755 - accuracy: 0.7387 - val_loss: 1.3675 - val_accuracy: 0.7392\n",
      "\n",
      "Epoch 00020: val_accuracy did not improve from 0.74071\n",
      "Epoch 21/60\n",
      "46/46 [==============================] - 177s 4s/step - loss: 1.0721 - accuracy: 0.7384 - val_loss: 1.3649 - val_accuracy: 0.7372\n",
      "\n",
      "Epoch 00021: val_accuracy did not improve from 0.74071\n",
      "Epoch 22/60\n",
      "46/46 [==============================] - 177s 4s/step - loss: 1.0662 - accuracy: 0.7389 - val_loss: 1.3656 - val_accuracy: 0.7403\n",
      "\n",
      "Epoch 00022: val_accuracy did not improve from 0.74071\n",
      "Epoch 23/60\n",
      "46/46 [==============================] - 178s 4s/step - loss: 1.0621 - accuracy: 0.7404 - val_loss: 1.3609 - val_accuracy: 0.7392\n",
      "\n",
      "Epoch 00023: val_accuracy did not improve from 0.74071\n",
      "Epoch 24/60\n",
      "46/46 [==============================] - 177s 4s/step - loss: 1.0572 - accuracy: 0.7417 - val_loss: 1.3461 - val_accuracy: 0.7431\n",
      "\n",
      "Epoch 00024: val_accuracy improved from 0.74071 to 0.74308, saving model to weights-improvement_to60.hdf5\n",
      "Epoch 25/60\n",
      "46/46 [==============================] - 177s 4s/step - loss: 1.0531 - accuracy: 0.7422 - val_loss: 1.3643 - val_accuracy: 0.7437\n",
      "\n",
      "Epoch 00025: val_accuracy improved from 0.74308 to 0.74369, saving model to weights-improvement_to60.hdf5\n",
      "Epoch 26/60\n",
      "46/46 [==============================] - 177s 4s/step - loss: 1.0470 - accuracy: 0.7432 - val_loss: 1.3522 - val_accuracy: 0.7413\n",
      "\n",
      "Epoch 00026: val_accuracy did not improve from 0.74369\n",
      "Epoch 27/60\n",
      "46/46 [==============================] - 177s 4s/step - loss: 1.0418 - accuracy: 0.7438 - val_loss: 1.3545 - val_accuracy: 0.7430\n",
      "\n",
      "Epoch 00027: val_accuracy did not improve from 0.74369\n",
      "Epoch 28/60\n",
      "46/46 [==============================] - 177s 4s/step - loss: 1.0390 - accuracy: 0.7445 - val_loss: 1.3506 - val_accuracy: 0.7431\n",
      "\n",
      "Epoch 00028: val_accuracy did not improve from 0.74369\n",
      "Epoch 29/60\n",
      "46/46 [==============================] - 177s 4s/step - loss: 1.0314 - accuracy: 0.7460 - val_loss: 1.3455 - val_accuracy: 0.7426\n",
      "\n",
      "Epoch 00029: val_accuracy did not improve from 0.74369\n",
      "Epoch 30/60\n",
      "46/46 [==============================] - 177s 4s/step - loss: 1.0271 - accuracy: 0.7465 - val_loss: 1.3490 - val_accuracy: 0.7447\n",
      "\n",
      "Epoch 00030: val_accuracy improved from 0.74369 to 0.74475, saving model to weights-improvement_to60.hdf5\n",
      "Epoch 31/60\n",
      "46/46 [==============================] - 177s 4s/step - loss: 1.0252 - accuracy: 0.7471 - val_loss: 1.3416 - val_accuracy: 0.7446\n",
      "\n",
      "Epoch 00031: val_accuracy did not improve from 0.74475\n",
      "Epoch 32/60\n",
      "46/46 [==============================] - 177s 4s/step - loss: 1.0203 - accuracy: 0.7473 - val_loss: 1.3363 - val_accuracy: 0.7443\n",
      "\n",
      "Epoch 00032: val_accuracy did not improve from 0.74475\n",
      "Epoch 33/60\n",
      "46/46 [==============================] - 178s 4s/step - loss: 1.0155 - accuracy: 0.7482 - val_loss: 1.3472 - val_accuracy: 0.7454\n",
      "\n",
      "Epoch 00033: val_accuracy improved from 0.74475 to 0.74540, saving model to weights-improvement_to60.hdf5\n",
      "Epoch 34/60\n",
      "46/46 [==============================] - 177s 4s/step - loss: 1.0129 - accuracy: 0.7487 - val_loss: 1.3487 - val_accuracy: 0.7476\n",
      "\n",
      "Epoch 00034: val_accuracy improved from 0.74540 to 0.74758, saving model to weights-improvement_to60.hdf5\n",
      "Epoch 35/60\n",
      "46/46 [==============================] - 178s 4s/step - loss: 1.0106 - accuracy: 0.7497 - val_loss: 1.3391 - val_accuracy: 0.7464\n",
      "\n",
      "Epoch 00035: val_accuracy did not improve from 0.74758\n",
      "Epoch 36/60\n",
      "46/46 [==============================] - 177s 4s/step - loss: 1.0071 - accuracy: 0.7504 - val_loss: 1.3354 - val_accuracy: 0.7486\n",
      "\n",
      "Epoch 00036: val_accuracy improved from 0.74758 to 0.74864, saving model to weights-improvement_to60.hdf5\n",
      "Epoch 37/60\n",
      "46/46 [==============================] - 175s 4s/step - loss: 1.0044 - accuracy: 0.7502 - val_loss: 1.3405 - val_accuracy: 0.7469\n",
      "\n",
      "Epoch 00037: val_accuracy did not improve from 0.74864\n",
      "Epoch 38/60\n",
      "46/46 [==============================] - 175s 4s/step - loss: 1.0003 - accuracy: 0.7514 - val_loss: 1.3488 - val_accuracy: 0.7437\n",
      "\n",
      "Epoch 00038: val_accuracy did not improve from 0.74864\n",
      "Epoch 39/60\n",
      "46/46 [==============================] - 176s 4s/step - loss: 0.9984 - accuracy: 0.7519 - val_loss: 1.3432 - val_accuracy: 0.7428\n",
      "\n",
      "Epoch 00039: val_accuracy did not improve from 0.74864\n",
      "Epoch 40/60\n",
      "46/46 [==============================] - 176s 4s/step - loss: 0.9960 - accuracy: 0.7520 - val_loss: 1.3369 - val_accuracy: 0.7494\n",
      "\n",
      "Epoch 00040: val_accuracy improved from 0.74864 to 0.74944, saving model to weights-improvement_to60.hdf5\n",
      "Epoch 41/60\n",
      "46/46 [==============================] - 176s 4s/step - loss: 0.9877 - accuracy: 0.7538 - val_loss: 1.3285 - val_accuracy: 0.7491\n",
      "\n",
      "Epoch 00041: val_accuracy did not improve from 0.74944\n",
      "Epoch 42/60\n",
      "46/46 [==============================] - 175s 4s/step - loss: 0.9855 - accuracy: 0.7532 - val_loss: 1.3323 - val_accuracy: 0.7482\n",
      "\n",
      "Epoch 00042: val_accuracy did not improve from 0.74944\n",
      "Epoch 43/60\n",
      "46/46 [==============================] - 175s 4s/step - loss: 0.9839 - accuracy: 0.7543 - val_loss: 1.3281 - val_accuracy: 0.7511\n",
      "\n",
      "Epoch 00043: val_accuracy improved from 0.74944 to 0.75111, saving model to weights-improvement_to60.hdf5\n",
      "Epoch 44/60\n",
      "46/46 [==============================] - 175s 4s/step - loss: 0.9773 - accuracy: 0.7562 - val_loss: 1.3339 - val_accuracy: 0.7509\n",
      "\n",
      "Epoch 00044: val_accuracy did not improve from 0.75111\n",
      "Epoch 45/60\n",
      "46/46 [==============================] - 175s 4s/step - loss: 0.9772 - accuracy: 0.7556 - val_loss: 1.3407 - val_accuracy: 0.7491\n",
      "\n",
      "Epoch 00045: val_accuracy did not improve from 0.75111\n",
      "Epoch 46/60\n",
      "46/46 [==============================] - 176s 4s/step - loss: 0.9733 - accuracy: 0.7568 - val_loss: 1.3315 - val_accuracy: 0.7502\n",
      "\n",
      "Epoch 00046: val_accuracy did not improve from 0.75111\n",
      "Epoch 47/60\n",
      "46/46 [==============================] - 177s 4s/step - loss: 0.9710 - accuracy: 0.7567 - val_loss: 1.3292 - val_accuracy: 0.7491\n",
      "\n",
      "Epoch 00047: val_accuracy did not improve from 0.75111\n",
      "Epoch 48/60\n",
      "46/46 [==============================] - 177s 4s/step - loss: 0.9711 - accuracy: 0.7572 - val_loss: 1.3267 - val_accuracy: 0.7514\n",
      "\n",
      "Epoch 00048: val_accuracy improved from 0.75111 to 0.75136, saving model to weights-improvement_to60.hdf5\n",
      "Epoch 49/60\n",
      "46/46 [==============================] - 177s 4s/step - loss: 0.9688 - accuracy: 0.7569 - val_loss: 1.3294 - val_accuracy: 0.7507\n",
      "\n",
      "Epoch 00049: val_accuracy did not improve from 0.75136\n",
      "Epoch 50/60\n",
      "46/46 [==============================] - 176s 4s/step - loss: 0.9669 - accuracy: 0.7577 - val_loss: 1.3338 - val_accuracy: 0.7520\n",
      "\n",
      "Epoch 00050: val_accuracy improved from 0.75136 to 0.75202, saving model to weights-improvement_to60.hdf5\n",
      "Epoch 51/60\n",
      "46/46 [==============================] - 177s 4s/step - loss: 0.9646 - accuracy: 0.7577 - val_loss: 1.3393 - val_accuracy: 0.7486\n",
      "\n",
      "Epoch 00051: val_accuracy did not improve from 0.75202\n",
      "Epoch 52/60\n",
      "46/46 [==============================] - 175s 4s/step - loss: 0.9617 - accuracy: 0.7586 - val_loss: 1.3282 - val_accuracy: 0.7523\n",
      "\n",
      "Epoch 00052: val_accuracy improved from 0.75202 to 0.75232, saving model to weights-improvement_to60.hdf5\n",
      "Epoch 53/60\n",
      "46/46 [==============================] - 175s 4s/step - loss: 0.9545 - accuracy: 0.7598 - val_loss: 1.3409 - val_accuracy: 0.7546\n",
      "\n",
      "Epoch 00053: val_accuracy improved from 0.75232 to 0.75460, saving model to weights-improvement_to60.hdf5\n",
      "Epoch 54/60\n",
      "46/46 [==============================] - 175s 4s/step - loss: 0.9560 - accuracy: 0.7598 - val_loss: 1.3295 - val_accuracy: 0.7497\n",
      "\n",
      "Epoch 00054: val_accuracy did not improve from 0.75460\n",
      "Epoch 55/60\n",
      "46/46 [==============================] - 174s 4s/step - loss: 0.9525 - accuracy: 0.7602 - val_loss: 1.3466 - val_accuracy: 0.7535\n",
      "\n",
      "Epoch 00055: val_accuracy did not improve from 0.75460\n",
      "Epoch 56/60\n",
      "46/46 [==============================] - 174s 4s/step - loss: 0.9514 - accuracy: 0.7606 - val_loss: 1.3387 - val_accuracy: 0.7521\n",
      "\n",
      "Epoch 00056: val_accuracy did not improve from 0.75460\n",
      "Epoch 57/60\n",
      "46/46 [==============================] - 174s 4s/step - loss: 0.9524 - accuracy: 0.7600 - val_loss: 1.3326 - val_accuracy: 0.7520\n",
      "\n",
      "Epoch 00057: val_accuracy did not improve from 0.75460\n",
      "Epoch 58/60\n",
      "46/46 [==============================] - 173s 4s/step - loss: 0.9474 - accuracy: 0.7610 - val_loss: 1.3364 - val_accuracy: 0.7501\n",
      "\n",
      "Epoch 00058: val_accuracy did not improve from 0.75460\n",
      "Epoch 59/60\n",
      "46/46 [==============================] - 173s 4s/step - loss: 0.9427 - accuracy: 0.7618 - val_loss: 1.3406 - val_accuracy: 0.7537\n",
      "\n",
      "Epoch 00059: val_accuracy did not improve from 0.75460\n",
      "Epoch 60/60\n",
      "46/46 [==============================] - 174s 4s/step - loss: 0.9430 - accuracy: 0.7624 - val_loss: 1.3329 - val_accuracy: 0.7509\n",
      "\n",
      "Epoch 00060: val_accuracy did not improve from 0.75460\n"
     ]
    }
   ],
   "source": [
    "filepath_60=\"weights-improvement_to60.hdf5\"\n",
    "checkpoint_to60 = ModelCheckpoint(filepath_60, monitor='val_accuracy', verbose=1, save_best_only=True, mode='max')\n",
    "history = model.fit(fre_seq, eng_seq, batch_size=1024, epochs=60, verbose=1, validation_split=0.05, shuffle=True, callbacks=[checkpoint_to60])"
   ]
  },
  {
   "cell_type": "code",
   "execution_count": null,
   "metadata": {
    "colab": {
     "base_uri": "https://localhost:8080/",
     "height": 17
    },
    "id": "SzxLb-ML3-Wp",
    "outputId": "da2cfdde-66ac-4bc2-a552-eb9f046d3a08"
   },
   "outputs": [
    {
     "data": {
      "application/javascript": [
       "\n",
       "    async function download(id, filename, size) {\n",
       "      if (!google.colab.kernel.accessAllowed) {\n",
       "        return;\n",
       "      }\n",
       "      const div = document.createElement('div');\n",
       "      const label = document.createElement('label');\n",
       "      label.textContent = `Downloading \"${filename}\": `;\n",
       "      div.appendChild(label);\n",
       "      const progress = document.createElement('progress');\n",
       "      progress.max = size;\n",
       "      div.appendChild(progress);\n",
       "      document.body.appendChild(div);\n",
       "\n",
       "      const buffers = [];\n",
       "      let downloaded = 0;\n",
       "\n",
       "      const channel = await google.colab.kernel.comms.open(id);\n",
       "      // Send a message to notify the kernel that we're ready.\n",
       "      channel.send({})\n",
       "\n",
       "      for await (const message of channel.messages) {\n",
       "        // Send a message to notify the kernel that we're ready.\n",
       "        channel.send({})\n",
       "        if (message.buffers) {\n",
       "          for (const buffer of message.buffers) {\n",
       "            buffers.push(buffer);\n",
       "            downloaded += buffer.byteLength;\n",
       "            progress.value = downloaded;\n",
       "          }\n",
       "        }\n",
       "      }\n",
       "      const blob = new Blob(buffers, {type: 'application/binary'});\n",
       "      const a = document.createElement('a');\n",
       "      a.href = window.URL.createObjectURL(blob);\n",
       "      a.download = filename;\n",
       "      div.appendChild(a);\n",
       "      a.click();\n",
       "      div.remove();\n",
       "    }\n",
       "  "
      ],
      "text/plain": [
       "<IPython.core.display.Javascript object>"
      ]
     },
     "metadata": {},
     "output_type": "display_data"
    },
    {
     "data": {
      "application/javascript": [
       "download(\"download_24303462-38e4-478b-a5fd-afd73c1eb4ff\", \"weights-improvement_to60.hdf5\", 35660136)"
      ],
      "text/plain": [
       "<IPython.core.display.Javascript object>"
      ]
     },
     "metadata": {},
     "output_type": "display_data"
    }
   ],
   "source": [
    "files.download('/content/weights-improvement_to60.hdf5')"
   ]
  },
  {
   "cell_type": "code",
   "execution_count": null,
   "metadata": {
    "colab": {
     "base_uri": "https://localhost:8080/"
    },
    "id": "h_WkqOMd4JgK",
    "outputId": "9dac317c-0a69-4086-d137-6191a506edb6"
   },
   "outputs": [
    {
     "name": "stdout",
     "output_type": "stream",
     "text": [
      "Epoch 1/50\n",
      "46/46 [==============================] - 174s 4s/step - loss: 0.9569 - accuracy: 0.7593 - val_loss: 1.3260 - val_accuracy: 0.7510\n",
      "\n",
      "Epoch 00001: val_accuracy improved from -inf to 0.75101, saving model to =weights-improvement_to140.hdf5\n",
      "Epoch 2/50\n",
      "46/46 [==============================] - 174s 4s/step - loss: 0.9546 - accuracy: 0.7603 - val_loss: 1.3465 - val_accuracy: 0.7462\n",
      "\n",
      "Epoch 00002: val_accuracy did not improve from 0.75101\n",
      "Epoch 3/50\n",
      "46/46 [==============================] - 174s 4s/step - loss: 0.9502 - accuracy: 0.7611 - val_loss: 1.3336 - val_accuracy: 0.7552\n",
      "\n",
      "Epoch 00003: val_accuracy improved from 0.75101 to 0.75515, saving model to =weights-improvement_to140.hdf5\n",
      "Epoch 4/50\n",
      "46/46 [==============================] - 174s 4s/step - loss: 0.9490 - accuracy: 0.7607 - val_loss: 1.3340 - val_accuracy: 0.7536\n",
      "\n",
      "Epoch 00004: val_accuracy did not improve from 0.75515\n",
      "Epoch 5/50\n",
      "46/46 [==============================] - 173s 4s/step - loss: 0.9474 - accuracy: 0.7610 - val_loss: 1.3333 - val_accuracy: 0.7537\n",
      "\n",
      "Epoch 00005: val_accuracy did not improve from 0.75515\n",
      "Epoch 6/50\n",
      "46/46 [==============================] - 174s 4s/step - loss: 0.9467 - accuracy: 0.7616 - val_loss: 1.3302 - val_accuracy: 0.7547\n",
      "\n",
      "Epoch 00006: val_accuracy did not improve from 0.75515\n",
      "Epoch 7/50\n",
      "46/46 [==============================] - 173s 4s/step - loss: 0.9415 - accuracy: 0.7625 - val_loss: 1.3348 - val_accuracy: 0.7511\n",
      "\n",
      "Epoch 00007: val_accuracy did not improve from 0.75515\n",
      "Epoch 8/50\n",
      "46/46 [==============================] - 174s 4s/step - loss: 0.9417 - accuracy: 0.7623 - val_loss: 1.3292 - val_accuracy: 0.7544\n",
      "\n",
      "Epoch 00008: val_accuracy did not improve from 0.75515\n",
      "Epoch 9/50\n",
      "46/46 [==============================] - 174s 4s/step - loss: 0.9368 - accuracy: 0.7640 - val_loss: 1.3277 - val_accuracy: 0.7556\n",
      "\n",
      "Epoch 00009: val_accuracy improved from 0.75515 to 0.75556, saving model to =weights-improvement_to140.hdf5\n",
      "Epoch 10/50\n",
      "46/46 [==============================] - 174s 4s/step - loss: 0.9371 - accuracy: 0.7628 - val_loss: 1.3386 - val_accuracy: 0.7575\n",
      "\n",
      "Epoch 00010: val_accuracy improved from 0.75556 to 0.75747, saving model to =weights-improvement_to140.hdf5\n",
      "Epoch 11/50\n",
      "46/46 [==============================] - 174s 4s/step - loss: 0.9375 - accuracy: 0.7634 - val_loss: 1.3343 - val_accuracy: 0.7540\n",
      "\n",
      "Epoch 00011: val_accuracy did not improve from 0.75747\n",
      "Epoch 12/50\n",
      "46/46 [==============================] - 174s 4s/step - loss: 0.9364 - accuracy: 0.7630 - val_loss: 1.3381 - val_accuracy: 0.7560\n",
      "\n",
      "Epoch 00012: val_accuracy did not improve from 0.75747\n",
      "Epoch 13/50\n",
      "46/46 [==============================] - 176s 4s/step - loss: 0.9343 - accuracy: 0.7640 - val_loss: 1.3252 - val_accuracy: 0.7574\n",
      "\n",
      "Epoch 00013: val_accuracy did not improve from 0.75747\n",
      "Epoch 14/50\n",
      "46/46 [==============================] - 175s 4s/step - loss: 0.9298 - accuracy: 0.7651 - val_loss: 1.3354 - val_accuracy: 0.7529\n",
      "\n",
      "Epoch 00014: val_accuracy did not improve from 0.75747\n",
      "Epoch 15/50\n",
      "46/46 [==============================] - 175s 4s/step - loss: 0.9318 - accuracy: 0.7647 - val_loss: 1.3259 - val_accuracy: 0.7542\n",
      "\n",
      "Epoch 00015: val_accuracy did not improve from 0.75747\n",
      "Epoch 16/50\n",
      "46/46 [==============================] - 175s 4s/step - loss: 0.9310 - accuracy: 0.7646 - val_loss: 1.3295 - val_accuracy: 0.7546\n",
      "\n",
      "Epoch 00016: val_accuracy did not improve from 0.75747\n",
      "Epoch 17/50\n",
      "46/46 [==============================] - 174s 4s/step - loss: 0.9258 - accuracy: 0.7653 - val_loss: 1.3317 - val_accuracy: 0.7554\n",
      "\n",
      "Epoch 00017: val_accuracy did not improve from 0.75747\n",
      "Epoch 18/50\n",
      "46/46 [==============================] - 174s 4s/step - loss: 0.9219 - accuracy: 0.7664 - val_loss: 1.3335 - val_accuracy: 0.7557\n",
      "\n",
      "Epoch 00018: val_accuracy did not improve from 0.75747\n",
      "Epoch 19/50\n",
      "46/46 [==============================] - 174s 4s/step - loss: 0.9242 - accuracy: 0.7653 - val_loss: 1.3275 - val_accuracy: 0.7568\n",
      "\n",
      "Epoch 00019: val_accuracy did not improve from 0.75747\n",
      "Epoch 20/50\n",
      "46/46 [==============================] - 174s 4s/step - loss: 0.9216 - accuracy: 0.7670 - val_loss: 1.3403 - val_accuracy: 0.7570\n",
      "\n",
      "Epoch 00020: val_accuracy did not improve from 0.75747\n",
      "Epoch 21/50\n",
      "46/46 [==============================] - 174s 4s/step - loss: 0.9212 - accuracy: 0.7659 - val_loss: 1.3320 - val_accuracy: 0.7544\n",
      "\n",
      "Epoch 00021: val_accuracy did not improve from 0.75747\n",
      "Epoch 22/50\n",
      "46/46 [==============================] - 174s 4s/step - loss: 0.9190 - accuracy: 0.7672 - val_loss: 1.3349 - val_accuracy: 0.7575\n",
      "\n",
      "Epoch 00022: val_accuracy did not improve from 0.75747\n",
      "Epoch 23/50\n",
      "46/46 [==============================] - 174s 4s/step - loss: 0.9144 - accuracy: 0.7677 - val_loss: 1.3362 - val_accuracy: 0.7581\n",
      "\n",
      "Epoch 00023: val_accuracy improved from 0.75747 to 0.75808, saving model to =weights-improvement_to140.hdf5\n",
      "Epoch 24/50\n",
      "46/46 [==============================] - 174s 4s/step - loss: 0.9147 - accuracy: 0.7678 - val_loss: 1.3283 - val_accuracy: 0.7564\n",
      "\n",
      "Epoch 00024: val_accuracy did not improve from 0.75808\n",
      "Epoch 25/50\n",
      "46/46 [==============================] - 174s 4s/step - loss: 0.9154 - accuracy: 0.7674 - val_loss: 1.3406 - val_accuracy: 0.7538\n",
      "\n",
      "Epoch 00025: val_accuracy did not improve from 0.75808\n",
      "Epoch 26/50\n",
      "46/46 [==============================] - 174s 4s/step - loss: 0.9113 - accuracy: 0.7685 - val_loss: 1.3247 - val_accuracy: 0.7571\n",
      "\n",
      "Epoch 00026: val_accuracy did not improve from 0.75808\n",
      "Epoch 27/50\n",
      "46/46 [==============================] - 173s 4s/step - loss: 0.9092 - accuracy: 0.7685 - val_loss: 1.3373 - val_accuracy: 0.7538\n",
      "\n",
      "Epoch 00027: val_accuracy did not improve from 0.75808\n",
      "Epoch 28/50\n",
      "46/46 [==============================] - 173s 4s/step - loss: 0.9127 - accuracy: 0.7676 - val_loss: 1.3385 - val_accuracy: 0.7550\n",
      "\n",
      "Epoch 00028: val_accuracy did not improve from 0.75808\n",
      "Epoch 29/50\n",
      "46/46 [==============================] - 173s 4s/step - loss: 0.9087 - accuracy: 0.7689 - val_loss: 1.3416 - val_accuracy: 0.7562\n",
      "\n",
      "Epoch 00029: val_accuracy did not improve from 0.75808\n",
      "Epoch 30/50\n",
      "46/46 [==============================] - 173s 4s/step - loss: 0.9066 - accuracy: 0.7692 - val_loss: 1.3346 - val_accuracy: 0.7580\n",
      "\n",
      "Epoch 00030: val_accuracy did not improve from 0.75808\n",
      "Epoch 31/50\n",
      "46/46 [==============================] - 173s 4s/step - loss: 0.9103 - accuracy: 0.7677 - val_loss: 1.3343 - val_accuracy: 0.7591\n",
      "\n",
      "Epoch 00031: val_accuracy improved from 0.75808 to 0.75909, saving model to =weights-improvement_to140.hdf5\n",
      "Epoch 32/50\n",
      "46/46 [==============================] - 173s 4s/step - loss: 0.9050 - accuracy: 0.7695 - val_loss: 1.3420 - val_accuracy: 0.7579\n",
      "\n",
      "Epoch 00032: val_accuracy did not improve from 0.75909\n",
      "Epoch 33/50\n",
      "46/46 [==============================] - 173s 4s/step - loss: 0.9046 - accuracy: 0.7697 - val_loss: 1.3390 - val_accuracy: 0.7562\n",
      "\n",
      "Epoch 00033: val_accuracy did not improve from 0.75909\n",
      "Epoch 34/50\n",
      "46/46 [==============================] - 173s 4s/step - loss: 0.9007 - accuracy: 0.7710 - val_loss: 1.3417 - val_accuracy: 0.7606\n",
      "\n",
      "Epoch 00034: val_accuracy improved from 0.75909 to 0.76056, saving model to =weights-improvement_to140.hdf5\n",
      "Epoch 35/50\n",
      "46/46 [==============================] - 173s 4s/step - loss: 0.9001 - accuracy: 0.7705 - val_loss: 1.3347 - val_accuracy: 0.7577\n",
      "\n",
      "Epoch 00035: val_accuracy did not improve from 0.76056\n",
      "Epoch 36/50\n",
      "46/46 [==============================] - 173s 4s/step - loss: 0.8993 - accuracy: 0.7709 - val_loss: 1.3407 - val_accuracy: 0.7565\n",
      "\n",
      "Epoch 00036: val_accuracy did not improve from 0.76056\n",
      "Epoch 37/50\n",
      "46/46 [==============================] - 173s 4s/step - loss: 0.8957 - accuracy: 0.7707 - val_loss: 1.3286 - val_accuracy: 0.7568\n",
      "\n",
      "Epoch 00037: val_accuracy did not improve from 0.76056\n",
      "Epoch 38/50\n",
      "46/46 [==============================] - 173s 4s/step - loss: 0.8988 - accuracy: 0.7709 - val_loss: 1.3292 - val_accuracy: 0.7577\n",
      "\n",
      "Epoch 00038: val_accuracy did not improve from 0.76056\n",
      "Epoch 39/50\n",
      "46/46 [==============================] - 173s 4s/step - loss: 0.8961 - accuracy: 0.7714 - val_loss: 1.3364 - val_accuracy: 0.7607\n",
      "\n",
      "Epoch 00039: val_accuracy improved from 0.76056 to 0.76071, saving model to =weights-improvement_to140.hdf5\n",
      "Epoch 40/50\n",
      "46/46 [==============================] - 175s 4s/step - loss: 0.8934 - accuracy: 0.7722 - val_loss: 1.3457 - val_accuracy: 0.7601\n",
      "\n",
      "Epoch 00040: val_accuracy did not improve from 0.76071\n",
      "Epoch 41/50\n",
      "46/46 [==============================] - 174s 4s/step - loss: 0.8956 - accuracy: 0.7716 - val_loss: 1.3354 - val_accuracy: 0.7612\n",
      "\n",
      "Epoch 00041: val_accuracy improved from 0.76071 to 0.76116, saving model to =weights-improvement_to140.hdf5\n",
      "Epoch 42/50\n",
      "46/46 [==============================] - 174s 4s/step - loss: 0.8947 - accuracy: 0.7715 - val_loss: 1.3344 - val_accuracy: 0.7599\n",
      "\n",
      "Epoch 00042: val_accuracy did not improve from 0.76116\n",
      "Epoch 43/50\n",
      "46/46 [==============================] - 174s 4s/step - loss: 0.8915 - accuracy: 0.7731 - val_loss: 1.3386 - val_accuracy: 0.7606\n",
      "\n",
      "Epoch 00043: val_accuracy did not improve from 0.76116\n",
      "Epoch 44/50\n",
      "46/46 [==============================] - 174s 4s/step - loss: 0.8879 - accuracy: 0.7729 - val_loss: 1.3351 - val_accuracy: 0.7605\n",
      "\n",
      "Epoch 00044: val_accuracy did not improve from 0.76116\n",
      "Epoch 45/50\n",
      "46/46 [==============================] - 174s 4s/step - loss: 0.8918 - accuracy: 0.7720 - val_loss: 1.3373 - val_accuracy: 0.7587\n",
      "\n",
      "Epoch 00045: val_accuracy did not improve from 0.76116\n",
      "Epoch 46/50\n",
      "46/46 [==============================] - 174s 4s/step - loss: 0.8899 - accuracy: 0.7728 - val_loss: 1.3422 - val_accuracy: 0.7537\n",
      "\n",
      "Epoch 00046: val_accuracy did not improve from 0.76116\n",
      "Epoch 47/50\n",
      "46/46 [==============================] - 175s 4s/step - loss: 0.8853 - accuracy: 0.7740 - val_loss: 1.3378 - val_accuracy: 0.7607\n",
      "\n",
      "Epoch 00047: val_accuracy did not improve from 0.76116\n",
      "Epoch 48/50\n",
      "46/46 [==============================] - 174s 4s/step - loss: 0.8874 - accuracy: 0.7732 - val_loss: 1.3347 - val_accuracy: 0.7597\n",
      "\n",
      "Epoch 00048: val_accuracy did not improve from 0.76116\n",
      "Epoch 49/50\n",
      "46/46 [==============================] - 174s 4s/step - loss: 0.8835 - accuracy: 0.7740 - val_loss: 1.3499 - val_accuracy: 0.7533\n",
      "\n",
      "Epoch 00049: val_accuracy did not improve from 0.76116\n",
      "Epoch 50/50\n",
      "46/46 [==============================] - 174s 4s/step - loss: 0.8845 - accuracy: 0.7735 - val_loss: 1.3355 - val_accuracy: 0.7596\n",
      "\n",
      "Epoch 00050: val_accuracy did not improve from 0.76116\n"
     ]
    }
   ],
   "source": [
    "checkpoint_path = '/content/weights-improvement_to90.hdf5'\n",
    "model.load_weights(checkpoint_path)\n",
    "filepath_to140 = \"=weights-improvement_to140.hdf5\"\n",
    "checkpoint_to140 = ModelCheckpoint(filepath_to140, monitor='val_accuracy', verbose=1, save_best_only=True, mode='max')\n",
    "history = model.fit(fre_seq, eng_seq, batch_size=1024, epochs=50, verbose=1, validation_split=0.05, shuffle=True, callbacks=[checkpoint_to140])"
   ]
  },
  {
   "cell_type": "code",
   "execution_count": 22,
   "metadata": {
    "id": "vN3qIpk_KAh0"
   },
   "outputs": [],
   "source": [
    "checkpoint_path = '/content/weights-improvement_to140.hdf5'\n",
    "model.load_weights(checkpoint_path)"
   ]
  },
  {
   "cell_type": "code",
   "execution_count": 30,
   "metadata": {
    "id": "QISms6kg4CVx"
   },
   "outputs": [],
   "source": [
    "prediction = model.predict(test_french.reshape(test_french.shape[0], test_french.shape[1]))\n",
    "prediction_class =np.argmax(prediction,axis=1)"
   ]
  },
  {
   "cell_type": "code",
   "execution_count": 31,
   "metadata": {
    "id": "9tqCJ__Ui7dd"
   },
   "outputs": [],
   "source": [
    "def get_word(n, tokenizer):\n",
    "    for word, index in tokenizer.word_index.items():\n",
    "        if index == n:\n",
    "            return word\n",
    "    return None"
   ]
  },
  {
   "cell_type": "code",
   "execution_count": 32,
   "metadata": {
    "colab": {
     "base_uri": "https://localhost:8080/"
    },
    "id": "th6vOqO4jAOz",
    "outputId": "cbfb19ba-62b2-440e-84de-cb15135f2b4c"
   },
   "outputs": [
    {
     "name": "stderr",
     "output_type": "stream",
     "text": [
      "100%|██████████| 5500/5500 [1:25:05<00:00,  1.08it/s]\n"
     ]
    }
   ],
   "source": [
    "preds_text = []\n",
    "for i in tqdm(prediction_class):\n",
    "    temp = []\n",
    "    for j in range(len(i)):\n",
    "        t = get_word(i[j], english_tokenizer)\n",
    "        if j > 0:\n",
    "            if (t == get_word(i[j-1], english_tokenizer)) or (t == None):\n",
    "                temp.append('')\n",
    "            else:\n",
    "                temp.append(t)\n",
    "        else:\n",
    "            if(t == None):\n",
    "                temp.append('')\n",
    "            else:\n",
    "                temp.append(t)\n",
    "    preds_text.append(' '.join(temp))"
   ]
  },
  {
   "cell_type": "code",
   "execution_count": 33,
   "metadata": {
    "id": "GAeo2yg-xGyR"
   },
   "outputs": [],
   "source": [
    "pred_df = pd.DataFrame({'actual' : test_english, 'predicted' : preds_text})"
   ]
  },
  {
   "cell_type": "code",
   "execution_count": 34,
   "metadata": {
    "colab": {
     "base_uri": "https://localhost:8080/",
     "height": 419
    },
    "id": "fnmyciLKEnXh",
    "outputId": "3e15358c-6d6b-4520-ad69-a295403fb851"
   },
   "outputs": [
    {
     "data": {
      "text/html": [
       "<div>\n",
       "<style scoped>\n",
       "    .dataframe tbody tr th:only-of-type {\n",
       "        vertical-align: middle;\n",
       "    }\n",
       "\n",
       "    .dataframe tbody tr th {\n",
       "        vertical-align: top;\n",
       "    }\n",
       "\n",
       "    .dataframe thead th {\n",
       "        text-align: right;\n",
       "    }\n",
       "</style>\n",
       "<table border=\"1\" class=\"dataframe\">\n",
       "  <thead>\n",
       "    <tr style=\"text-align: right;\">\n",
       "      <th></th>\n",
       "      <th>actual</th>\n",
       "      <th>predicted</th>\n",
       "    </tr>\n",
       "  </thead>\n",
       "  <tbody>\n",
       "    <tr>\n",
       "      <th>0</th>\n",
       "      <td>this is simply amazing</td>\n",
       "      <td>is a  you a you i    you    a you   i you a  y...</td>\n",
       "    </tr>\n",
       "    <tr>\n",
       "      <th>1</th>\n",
       "      <td>did you know him well</td>\n",
       "      <td>is  i  you  i        you i  i you   i   i you ...</td>\n",
       "    </tr>\n",
       "    <tr>\n",
       "      <th>2</th>\n",
       "      <td>i feel tired and exhausted</td>\n",
       "      <td>tom  to you to you to  the to  you a the  to  ...</td>\n",
       "    </tr>\n",
       "    <tr>\n",
       "      <th>3</th>\n",
       "      <td>im very strict</td>\n",
       "      <td>is  a i you   i a i  you  you a i   a you a  i...</td>\n",
       "    </tr>\n",
       "    <tr>\n",
       "      <th>4</th>\n",
       "      <td>who allowed him in</td>\n",
       "      <td>tom a you a you  a you   a you a you  to a  i ...</td>\n",
       "    </tr>\n",
       "    <tr>\n",
       "      <th>...</th>\n",
       "      <td>...</td>\n",
       "      <td>...</td>\n",
       "    </tr>\n",
       "    <tr>\n",
       "      <th>5495</th>\n",
       "      <td>youre a funny gal</td>\n",
       "      <td>is   i you i  to  a  to   a i  i  you   i you ...</td>\n",
       "    </tr>\n",
       "    <tr>\n",
       "      <th>5496</th>\n",
       "      <td>stay with us</td>\n",
       "      <td>tom  to  you  i to       to i  i      you a i ...</td>\n",
       "    </tr>\n",
       "    <tr>\n",
       "      <th>5497</th>\n",
       "      <td>do you play any instruments</td>\n",
       "      <td>is i  a the a  the    the      you the a i  a ...</td>\n",
       "    </tr>\n",
       "    <tr>\n",
       "      <th>5498</th>\n",
       "      <td>i shouldve gone home</td>\n",
       "      <td>tom  a  you to the to a  you to  to the  you  ...</td>\n",
       "    </tr>\n",
       "    <tr>\n",
       "      <th>5499</th>\n",
       "      <td>youre very open</td>\n",
       "      <td>is you  i you  i to a you     a i you i  you  ...</td>\n",
       "    </tr>\n",
       "  </tbody>\n",
       "</table>\n",
       "<p>5500 rows × 2 columns</p>\n",
       "</div>"
      ],
      "text/plain": [
       "                           actual                                          predicted\n",
       "0          this is simply amazing  is a  you a you i    you    a you   i you a  y...\n",
       "1           did you know him well  is  i  you  i        you i  i you   i   i you ...\n",
       "2      i feel tired and exhausted  tom  to you to you to  the to  you a the  to  ...\n",
       "3                  im very strict  is  a i you   i a i  you  you a i   a you a  i...\n",
       "4              who allowed him in  tom a you a you  a you   a you a you  to a  i ...\n",
       "...                           ...                                                ...\n",
       "5495            youre a funny gal  is   i you i  to  a  to   a i  i  you   i you ...\n",
       "5496                 stay with us  tom  to  you  i to       to i  i      you a i ...\n",
       "5497  do you play any instruments  is i  a the a  the    the      you the a i  a ...\n",
       "5498         i shouldve gone home  tom  a  you to the to a  you to  to the  you  ...\n",
       "5499              youre very open  is you  i you  i to a you     a i you i  you  ...\n",
       "\n",
       "[5500 rows x 2 columns]"
      ]
     },
     "execution_count": 34,
     "metadata": {},
     "output_type": "execute_result"
    }
   ],
   "source": [
    "pred_df"
   ]
  }
 ],
 "metadata": {
  "colab": {
   "collapsed_sections": [],
   "name": "french_eng.ipynb",
   "provenance": []
  },
  "kernelspec": {
   "display_name": "Python 3",
   "language": "python",
   "name": "python3"
  },
  "language_info": {
   "codemirror_mode": {
    "name": "ipython",
    "version": 3
   },
   "file_extension": ".py",
   "mimetype": "text/x-python",
   "name": "python",
   "nbconvert_exporter": "python",
   "pygments_lexer": "ipython3",
   "version": "3.8.8"
  }
 },
 "nbformat": 4,
 "nbformat_minor": 1
}
